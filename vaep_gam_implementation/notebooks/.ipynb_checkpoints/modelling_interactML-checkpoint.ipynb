{
 "cells": [
  {
   "cell_type": "code",
   "execution_count": 1,
   "metadata": {},
   "outputs": [],
   "source": [
    "##imports\n",
    "import pandas as pd\n",
    "import numpy as np\n",
    "import matplotlib.pyplot as plt\n",
    "\n",
    "from interpret.glassbox import ExplainableBoostingClassifier"
   ]
  },
  {
   "cell_type": "code",
   "execution_count": 37,
   "metadata": {},
   "outputs": [],
   "source": [
    "valid_Xs = pd.read_csv(\"../preprocessed_data/valid_Xs.csv\")\n",
    "valid_ys = pd.read_csv(\"../preprocessed_data/valid_ys.csv\")\n",
    "\n",
    "train_Xs = pd.read_csv(\"../preprocessed_data/train_Xs.csv\")\n",
    "train_ys = pd.read_csv(\"../preprocessed_data/train_ys.csv\")\n",
    "\n",
    "def relevel_gd(df):\n",
    "    df.loc[df['goal_diff']>3, 'goal_diff'] = 3\n",
    "    df.loc[df['goal_diff']<-3, 'goal_diff'] = -3\n",
    "    return df\n",
    "\n",
    "valid_Xs = relevel_gd(valid_Xs)\n",
    "train_Xs = relevel_gd(train_Xs)"
   ]
  },
  {
   "cell_type": "code",
   "execution_count": 39,
   "metadata": {},
   "outputs": [
    {
     "data": {
      "text/html": [
       "<div>\n",
       "<style scoped>\n",
       "    .dataframe tbody tr th:only-of-type {\n",
       "        vertical-align: middle;\n",
       "    }\n",
       "\n",
       "    .dataframe tbody tr th {\n",
       "        vertical-align: top;\n",
       "    }\n",
       "\n",
       "    .dataframe thead th {\n",
       "        text-align: right;\n",
       "    }\n",
       "</style>\n",
       "<table border=\"1\" class=\"dataframe\">\n",
       "  <thead>\n",
       "    <tr style=\"text-align: right;\">\n",
       "      <th></th>\n",
       "      <th>dist_to_goal</th>\n",
       "      <th>angle_to_goal</th>\n",
       "      <th>end_x</th>\n",
       "      <th>last_action_succ</th>\n",
       "      <th>last_action_foul</th>\n",
       "      <th>goal_diff</th>\n",
       "      <th>forward_movt_l</th>\n",
       "      <th>forward_movt_l2</th>\n",
       "      <th>forward_movt_l3</th>\n",
       "      <th>time_del_l1_l3</th>\n",
       "    </tr>\n",
       "  </thead>\n",
       "  <tbody>\n",
       "    <tr>\n",
       "      <th>0</th>\n",
       "      <td>78.381341</td>\n",
       "      <td>3.281017</td>\n",
       "      <td>39.585</td>\n",
       "      <td>1</td>\n",
       "      <td>0</td>\n",
       "      <td>0</td>\n",
       "      <td>1.995</td>\n",
       "      <td>0.420</td>\n",
       "      <td>-8.505</td>\n",
       "      <td>1.8</td>\n",
       "    </tr>\n",
       "    <tr>\n",
       "      <th>1</th>\n",
       "      <td>75.845872</td>\n",
       "      <td>3.358936</td>\n",
       "      <td>45.570</td>\n",
       "      <td>1</td>\n",
       "      <td>0</td>\n",
       "      <td>0</td>\n",
       "      <td>-4.935</td>\n",
       "      <td>1.995</td>\n",
       "      <td>0.420</td>\n",
       "      <td>1.8</td>\n",
       "    </tr>\n",
       "    <tr>\n",
       "      <th>2</th>\n",
       "      <td>72.111718</td>\n",
       "      <td>3.359286</td>\n",
       "      <td>49.665</td>\n",
       "      <td>1</td>\n",
       "      <td>0</td>\n",
       "      <td>0</td>\n",
       "      <td>-4.095</td>\n",
       "      <td>-4.935</td>\n",
       "      <td>1.995</td>\n",
       "      <td>1.8</td>\n",
       "    </tr>\n",
       "    <tr>\n",
       "      <th>3</th>\n",
       "      <td>85.419894</td>\n",
       "      <td>3.339424</td>\n",
       "      <td>34.440</td>\n",
       "      <td>1</td>\n",
       "      <td>0</td>\n",
       "      <td>0</td>\n",
       "      <td>8.085</td>\n",
       "      <td>-4.095</td>\n",
       "      <td>-4.935</td>\n",
       "      <td>1.8</td>\n",
       "    </tr>\n",
       "    <tr>\n",
       "      <th>4</th>\n",
       "      <td>77.555436</td>\n",
       "      <td>2.982864</td>\n",
       "      <td>30.660</td>\n",
       "      <td>1</td>\n",
       "      <td>0</td>\n",
       "      <td>0</td>\n",
       "      <td>-11.130</td>\n",
       "      <td>8.085</td>\n",
       "      <td>-4.095</td>\n",
       "      <td>1.8</td>\n",
       "    </tr>\n",
       "  </tbody>\n",
       "</table>\n",
       "</div>"
      ],
      "text/plain": [
       "   dist_to_goal  angle_to_goal   end_x  last_action_succ  last_action_foul  \\\n",
       "0     78.381341       3.281017  39.585                 1                 0   \n",
       "1     75.845872       3.358936  45.570                 1                 0   \n",
       "2     72.111718       3.359286  49.665                 1                 0   \n",
       "3     85.419894       3.339424  34.440                 1                 0   \n",
       "4     77.555436       2.982864  30.660                 1                 0   \n",
       "\n",
       "   goal_diff  forward_movt_l  forward_movt_l2  forward_movt_l3  time_del_l1_l3  \n",
       "0          0           1.995            0.420           -8.505             1.8  \n",
       "1          0          -4.935            1.995            0.420             1.8  \n",
       "2          0          -4.095           -4.935            1.995             1.8  \n",
       "3          0           8.085           -4.095           -4.935             1.8  \n",
       "4          0         -11.130            8.085           -4.095             1.8  "
      ]
     },
     "execution_count": 39,
     "metadata": {},
     "output_type": "execute_result"
    }
   ],
   "source": [
    "train_Xs.head()"
   ]
  },
  {
   "cell_type": "code",
   "execution_count": 40,
   "metadata": {},
   "outputs": [
    {
     "name": "stdout",
     "output_type": "stream",
     "text": [
      "Wall time: 2min 25s\n"
     ]
    },
    {
     "data": {
      "text/plain": [
       "ExplainableBoostingClassifier()"
      ]
     },
     "execution_count": 40,
     "metadata": {},
     "output_type": "execute_result"
    }
   ],
   "source": [
    "%%time\n",
    "\n",
    "ebm = ExplainableBoostingClassifier(interactions=2, random_state=42, validation_size=0.2)\n",
    "ebm.fit(train_Xs, train_ys[\"scoring\"])"
   ]
  },
  {
   "cell_type": "code",
   "execution_count": 41,
   "metadata": {},
   "outputs": [
    {
     "data": {
      "text/html": [
       "<!-- http://127.0.0.1:7001/1657151005120/ -->\n",
       "<iframe src=\"http://127.0.0.1:7001/1657151005120/\" width=100% height=800 frameBorder=\"0\"></iframe>"
      ]
     },
     "metadata": {},
     "output_type": "display_data"
    }
   ],
   "source": [
    "from interpret import show\n",
    "\n",
    "ebm_global = ebm.explain_global()\n",
    "show(ebm_global)"
   ]
  },
  {
   "cell_type": "code",
   "execution_count": 47,
   "metadata": {},
   "outputs": [
    {
     "name": "stdout",
     "output_type": "stream",
     "text": [
      "Baseline Prediction: 0.0107\n",
      "Normalized Brier Score: 0.9987\n"
     ]
    }
   ],
   "source": [
    "from sklearn.metrics import brier_score_loss\n",
    "\n",
    "predicted_probs = ebm.predict_proba(valid_Xs)[:, 1]\n",
    "\n",
    "baseline_preds = np.ones(len(valid_ys))*valid_ys[\"scoring\"].mean() ##according to the paper predicting all values as the class distribution\n",
    "baseline_brier_score = brier_score_loss(valid_ys[\"scoring\"].values, baseline_preds)\n",
    "\n",
    "print(f\"Baseline Prediction: {baseline_brier_score:.4f}\")\n",
    "\n",
    "model_brier_score = brier_score_loss(valid_ys[\"scoring\"].values, predicted_probs)\n",
    "normalized_brier_score_loss = model_brier_score/baseline_brier_score\n",
    "print(f\"Normalized Brier Score: {normalized_brier_score_loss:.4f}\") ##lower=better; 0 = perfect, >1 equals bogus, <1 is okay"
   ]
  },
  {
   "cell_type": "code",
   "execution_count": null,
   "metadata": {},
   "outputs": [],
   "source": []
  }
 ],
 "metadata": {
  "kernelspec": {
   "display_name": "Python 3",
   "language": "python",
   "name": "python3"
  },
  "language_info": {
   "codemirror_mode": {
    "name": "ipython",
    "version": 3
   },
   "file_extension": ".py",
   "mimetype": "text/x-python",
   "name": "python",
   "nbconvert_exporter": "python",
   "pygments_lexer": "ipython3",
   "version": "3.8.3"
  }
 },
 "nbformat": 4,
 "nbformat_minor": 4
}
